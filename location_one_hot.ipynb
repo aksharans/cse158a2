{
 "cells": [
  {
   "cell_type": "code",
   "execution_count": 2,
   "metadata": {},
   "outputs": [],
   "source": [
    "import gzip\n",
    "from collections import defaultdict\n",
    "import sklearn\n",
    "from sklearn import linear_model\n",
    "import string\n",
    "import re\n",
    "import datetime, time\n",
    "import matplotlib.pyplot as plt\n",
    "import numpy as np\n",
    "import matplotlib.dates as md\n",
    "import math\n",
    "from gensim.models import Word2Vec\n"
   ]
  },
  {
   "cell_type": "code",
   "execution_count": 3,
   "metadata": {},
   "outputs": [],
   "source": [
    "def readCSV(path):\n",
    "    f = open(path, 'rt')\n",
    "    f.readline()\n",
    "\n",
    "    for l in f:\n",
    "        \n",
    "        if l.startswith(\"timestamp\"): \n",
    "            continue\n",
    "\n",
    "        try: \n",
    "            timestamp,company,level,title,totalyearlycompensation,location,yearsofexperience,yearsatcompany,tag,basesalary,stockgrantvalue,bonus,gender,otherdetails,cityid,dmaid,rowNumber,Masters_Degree,Bachelors_Degree,Doctorate_Degree,Highschool,Some_College,Race_Asian,Race_White,Race_Two_Or_More,Race_Black,Race_Hispanic,Race,Education = re.split(r',(?![ ])', l)\n",
    "\n",
    "        except:\n",
    "            continue\n",
    "\n",
    "        yield timestamp,company,level,title,totalyearlycompensation,location,yearsofexperience,yearsatcompany,tag,basesalary,stockgrantvalue,bonus,gender,otherdetails,cityid,dmaid,rowNumber,Masters_Degree,Bachelors_Degree,Doctorate_Degree,Highschool,Some_College,Race_Asian,Race_White,Race_Two_Or_More,Race_Black,Race_Hispanic,Race,Education\n"
   ]
  },
  {
   "cell_type": "code",
   "execution_count": 4,
   "metadata": {},
   "outputs": [],
   "source": [
    "salaryRaw = []\n",
    "for l in readCSV(\"Levels_Fyi_Salary_Data.csv\"):\n",
    "    salaryRaw.append(l)"
   ]
  },
  {
   "cell_type": "code",
   "execution_count": 5,
   "metadata": {},
   "outputs": [
    {
     "name": "stdout",
     "output_type": "stream",
     "text": [
      "62300\n",
      "\"Redwood City, CA\"\n",
      "('6/7/2017 11:33:27', 'Oracle', 'L3', 'Product Manager', '127000', '\"Redwood City, CA\"', '1.5', '1.5', 'NA', '107000', '20000', '10000', 'NA', 'NA', '7392', '807', '1', '0', '0', '0', '0', '0', '0', '0', '0', '0', '0', 'NA', 'NA\\n')\n"
     ]
    }
   ],
   "source": [
    "print(len(salaryRaw))\n",
    "#city id = 14, dmaid = 15, city = 5\n",
    "print(salaryRaw[0][5])\n",
    "\n",
    "print(salaryRaw[0])\n",
    "\n"
   ]
  },
  {
   "cell_type": "code",
   "execution_count": 6,
   "metadata": {},
   "outputs": [],
   "source": [
    "# id , unixtime, company, level, title, total_comp, city, state, experience, tenure, tag, \n",
    "# salary, stock, bonus, city_id, dma_id, ms_deg, bs_deg, phd_deg, hs, college\n",
    "\n",
    "def parseSalaryRaw(salaryRaw):\n",
    "    salaryAllData = []\n",
    "\n",
    "    for entry in salaryRaw:\n",
    "\n",
    "        date, clocktime = entry[0].split(' ')\n",
    "        date = date.split('/')\n",
    "        clocktime = clocktime.split(':')\n",
    "        timestamp = datetime.datetime(int(date[2]), int(date[0]), int(date[1]), int(clocktime[0]), int(clocktime[1]), int(clocktime[2]))\n",
    "        timestamp = int(time.mktime(timestamp.timetuple()))\n",
    "\n",
    "\n",
    "        company = entry[1]\n",
    "        level = entry[2]\n",
    "        title = entry[3]\n",
    "\n",
    "        total_comp = int(float(entry[4]))\n",
    "\n",
    "        location = entry[5]\n",
    "        if location.count(',') == 2:\n",
    "            city, state, country = location.strip('\"').split(', ')\n",
    "        elif location.count(',') == 1:\n",
    "            city, state = location.strip('\"').split(', ')\n",
    "            country = 'USA'\n",
    "\n",
    "        experience = entry[6]\n",
    "        tenure = entry[7]\n",
    "\n",
    "        tag = entry[8]\n",
    "\n",
    "        salary = int(float(entry[9]))\n",
    "        if salary == 0:\n",
    "            continue\n",
    "\n",
    "        stock = int(float(entry[10]))\n",
    "        bonus = int(float(entry[11]))\n",
    "\n",
    "        g = entry[12]\n",
    "        gender = -1\n",
    "        if g == 'Female':\n",
    "            gender = 0\n",
    "        elif g == 'Male':\n",
    "            gender = 1\n",
    "        elif g == 'Other':\n",
    "            gender = 2\n",
    "\n",
    "        city_id = int(entry[14])\n",
    "\n",
    "        try: \n",
    "            dma_id = int(entry[15])\n",
    "        except:\n",
    "            dma_id = -1\n",
    "\n",
    "        id = int(entry[16])\n",
    "\n",
    "        ms_deg = int(entry[17])\n",
    "        bs_deg = int(entry[18])\n",
    "        phd_deg = int(entry[18])\n",
    "        hs = int(entry[19])\n",
    "        college = int(entry[20])\n",
    "\n",
    "        r = entry[27]\n",
    "        race = -1\n",
    "        if r == 'Asian':\n",
    "            race = 0\n",
    "        elif r == 'Black':\n",
    "            race = 1\n",
    "        elif r == 'Hispanic':\n",
    "            race = 2\n",
    "        elif r == 'Two Or More':\n",
    "            race = 3\n",
    "        elif r == 'White':\n",
    "            race = 4\n",
    "\n",
    "\n",
    "        salaryAllData.append({\n",
    "            'id': id,\n",
    "            'timestamp': timestamp,\n",
    "            'company': company,\n",
    "            'level': level,\n",
    "            'title': title,\n",
    "            'total_comp': total_comp,\n",
    "            'city': city,\n",
    "            'state': state,\n",
    "            'country': country,\n",
    "            'experience': experience,\n",
    "            'tenure': tenure,\n",
    "            'tag': tag,\n",
    "            'salary': salary,\n",
    "            'stock': stock,\n",
    "            'bonus': bonus,\n",
    "            'gender': gender,\n",
    "            'city_id': city_id,\n",
    "            'dma_id': dma_id,\n",
    "            'ms_deg': ms_deg,\n",
    "            'bs_deg': bs_deg,\n",
    "            'phd_deg': phd_deg,\n",
    "            'hs': hs,\n",
    "            'college': college,\n",
    "            'race': race,\n",
    "        })\n",
    "    return salaryAllData\n",
    "\n",
    "salaryAllData = parseSalaryRaw(salaryRaw)"
   ]
  },
  {
   "cell_type": "code",
   "execution_count": 7,
   "metadata": {},
   "outputs": [
    {
     "name": "stdout",
     "output_type": "stream",
     "text": [
      "59996\n",
      "819\n"
     ]
    }
   ],
   "source": [
    "print(len(salaryAllData))\n",
    "print(salaryAllData[4]['dma_id'])"
   ]
  },
  {
   "cell_type": "code",
   "execution_count": 8,
   "metadata": {},
   "outputs": [
    {
     "name": "stdout",
     "output_type": "stream",
     "text": [
      "47996, 47996\n",
      "6000, 6000\n",
      "6000, 6000\n",
      "80544, 6524, 21074\n"
     ]
    }
   ],
   "source": [
    "#####\n",
    "# Training, Validation, and Test sets\n",
    "#####\n",
    "\n",
    "# shuffle data\n",
    "shuffledAllData = sklearn.utils.shuffle(salaryAllData)\n",
    "shuffledAllData[0]['id']\n",
    "\n",
    "# create 80 / 10 / 10 : Train / Validation / Test sets\n",
    "X = shuffledAllData\n",
    "y = [d['salary'] for d in shuffledAllData]\n",
    "\n",
    "X_train, X_temp, y_train, y_temp = sklearn.model_selection.train_test_split(X, y, test_size=0.2, random_state=1)\n",
    "X_valid, X_test, y_valid, y_test = sklearn.model_selection.train_test_split(X_temp, y_temp, test_size=0.5, random_state=1)\n",
    "\n",
    "# Validate that sets were created with propper sizes\n",
    "print(str(len(X_train)) + \", \" + str(len(y_train)))\n",
    "print(str(len(X_valid)) + \", \" + str(len(y_valid)))\n",
    "print(str(len(X_test)) + \", \" + str(len(y_test)))\n",
    "\n",
    "# Validate all ids are different\n",
    "print(str(X_train[0]['id']) + \", \" + str(X_valid[0]['id']) + \", \" + str(X_test[0]['id']))"
   ]
  },
  {
   "cell_type": "code",
   "execution_count": 9,
   "metadata": {},
   "outputs": [
    {
     "data": {
      "text/plain": [
       "{'id': 80544,\n",
       " 'timestamp': 1627594982,\n",
       " 'company': 'Apple',\n",
       " 'level': 'ICT3',\n",
       " 'title': 'Software Engineer',\n",
       " 'total_comp': 220000,\n",
       " 'city': 'Cupertino',\n",
       " 'state': 'CA',\n",
       " 'country': 'USA',\n",
       " 'experience': '2',\n",
       " 'tenure': '2',\n",
       " 'tag': 'ML / AI',\n",
       " 'salary': 140000,\n",
       " 'stock': 80000,\n",
       " 'bonus': 0,\n",
       " 'gender': 0,\n",
       " 'city_id': 7158,\n",
       " 'dma_id': 807,\n",
       " 'ms_deg': 0,\n",
       " 'bs_deg': 1,\n",
       " 'phd_deg': 1,\n",
       " 'hs': 0,\n",
       " 'college': 0,\n",
       " 'race': 0}"
      ]
     },
     "execution_count": 9,
     "metadata": {},
     "output_type": "execute_result"
    }
   ],
   "source": [
    "X_train[0]"
   ]
  },
  {
   "cell_type": "code",
   "execution_count": 10,
   "metadata": {},
   "outputs": [],
   "source": [
    "#counting all dma_id just for exploration\n",
    "#assigning indices for every dma_id\n",
    "def dma_count_plus_index(dict, ind_dict):\n",
    "    count = 1\n",
    "    for d in salaryRaw:\n",
    "        dict[d[15]] += 1\n",
    "        if not ind_dict.get(d[15]):\n",
    "            ind_dict[d[15]] = count\n",
    "            count += 1\n",
    "        \n"
   ]
  },
  {
   "cell_type": "code",
   "execution_count": 11,
   "metadata": {},
   "outputs": [],
   "source": [
    "dmaidcounts = defaultdict(int)\n",
    "dmaindices = {}\n",
    "dma_count_plus_index(dmaidcounts, dmaindices)"
   ]
  },
  {
   "cell_type": "code",
   "execution_count": 12,
   "metadata": {},
   "outputs": [
    {
     "name": "stdout",
     "output_type": "stream",
     "text": [
      "{'807': 1, '819': 2, '0': 3, '501': 4, '512': 5, '862': 6, '820': 7, '803': 8, '511': 9, '635': 10, '506': 11, '825': 12, '622': 13, '508': 14, '519': 15, '751': 16, '652': 17, '504': 18, '527': 19, '617': 20, '613': 21, '602': 22, '532': 23, '753': 24, '752': 25, '623': 26, '556': 27, '669': 28, '628': 29, '566': 30, '515': 31, '560': 32, '528': 33, '534': 34, '524': 35, '609': 36, '526': 37, '521': 38, '648': 39, '770': 40, '517': 41, '518': 42, '535': 43, '505': 44, '641': 45, '790': 46, '539': 47, '670': 48, '533': 49, '523': 50, '618': 51, '637': 52, '616': 53, '855': 54, '510': 55, '563': 56, '757': 57, '659': 58, '625': 59, '691': 60, '705': 61, '576': 62, '811': 63, '679': 64, '541': 65, '544': 66, '828': 67, '789': 68, '821': 69, '588': 70, '611': 71, '716': 72, '801': 73, '561': 74, '682': 75, '584': 76, '671': 77, 'NA': 78, '564': 79, '502': 80, '640': 81, '678': 82, '581': 83, '642': 84, '514': 85, '598': 86, '643': 87, '567': 88, '839': 89, '746': 90, '500': 91, '675': 92, '619': 93, '548': 94, '592': 95, '650': 96, '529': 97, '536': 98, '551': 99, '573': 100, '610': 101, '766': 102, '702': 103, '724': 104, '547': 105, '604': 106, '656': 107, '513': 108, '649': 109, '503': 110, '687': 111, '530': 112, '686': 113, '555': 114, '571': 115, '538': 116, '693': 117, '651': 118, '744': 119, '634': 120, '525': 121, '546': 122, '754': 123, '630': 124, '624': 125, '866': 126, '554': 127, '600': 128, '565': 129, '542': 130, '550': 131, '540': 132, '632': 133, '734': 134, '520': 135, '881': 136, '509': 137, '522': 138, '612': 139, '531': 140, '804': 141, '577': 142, '759': 143, '516': 144, '673': 145, '574': 146, '537': 147, '760': 148, '698': 149, '658': 150}\n"
     ]
    }
   ],
   "source": [
    "print(dmaindices)"
   ]
  },
  {
   "cell_type": "code",
   "execution_count": 13,
   "metadata": {},
   "outputs": [],
   "source": [
    "def dma_feat(d, dict):  #returns feature row for dma_id one hot ecoding only\n",
    "    arr = [1] + ([0]*149)\n",
    "    if d == '-1':\n",
    "         arr[77] = 1\n",
    "    elif d != '807':\n",
    "        arr[(dict[d]-1)] = 1\n",
    "    return arr\n",
    "\n",
    "def dma_yoe_feat(d, dict, exp): #returns row for dma_id and either tenure/yoe\n",
    "    # print(exp, type(exp))\n",
    "    arr = [1] + ([0]*149)\n",
    "    if d == '-1':\n",
    "         arr[77] = 1\n",
    "    elif d != '807':\n",
    "        arr[(dict[d]-1)] = 1\n",
    "    return arr + [exp]"
   ]
  },
  {
   "cell_type": "code",
   "execution_count": 14,
   "metadata": {},
   "outputs": [],
   "source": [
    "#constructing feature vectors\n",
    "\n",
    "X_train_dma = [dma_feat(str(d['dma_id']), dmaindices) for d in X_train]\n",
    "X_train_dma_yoe = [dma_yoe_feat(str(d['dma_id']), dmaindices, (float(d['experience']))) for d in X_train]\n",
    "X_train_dma_tenure = [dma_yoe_feat(str(d['dma_id']), dmaindices, (float(d['tenure']))) for d in X_train]\n"
   ]
  },
  {
   "cell_type": "code",
   "execution_count": 15,
   "metadata": {},
   "outputs": [],
   "source": [
    "#first model with just dma_id one-hot encoding\n",
    "model = sklearn.linear_model.LinearRegression(fit_intercept=False)\n",
    "model.fit(X_train_dma, y_train)\n",
    "predictions = model.predict(X_train_dma)"
   ]
  },
  {
   "cell_type": "code",
   "execution_count": 16,
   "metadata": {},
   "outputs": [],
   "source": [
    "#second model with dma_id one-hot encoding + yoe (exeperience)\n",
    "model2 = sklearn.linear_model.LinearRegression(fit_intercept=False)\n",
    "model2.fit(X_train_dma_yoe, y_train)\n",
    "predictions2 = model2.predict(X_train_dma_yoe)"
   ]
  },
  {
   "cell_type": "code",
   "execution_count": 17,
   "metadata": {},
   "outputs": [],
   "source": [
    "#third model with dma_id one-hot encoding + tenure\n",
    "model3 = sklearn.linear_model.LinearRegression(fit_intercept=False)\n",
    "model3.fit(X_train_dma_tenure, y_train)\n",
    "predictions3 = model3.predict(X_train_dma_tenure)"
   ]
  },
  {
   "cell_type": "code",
   "execution_count": 18,
   "metadata": {},
   "outputs": [
    {
     "name": "stdout",
     "output_type": "stream",
     "text": [
      "[172110.76604408 122143.50797267 151289.85975414  80311.85311475\n",
      " 137293.62170088 172110.76604408  80311.85311475 172110.76604408\n",
      " 130001.09114383 172110.76604408]\n",
      "[150339.37411287 105832.12576975 132873.78105907 113310.89205963\n",
      " 142284.0766659  154452.35331169  92745.99606554 142113.41571523\n",
      " 157419.79597631 154452.35331169]\n",
      "[170445.61884799 116914.19117501 151486.07230669  85462.69426457\n",
      " 128922.62688315 168811.10829322  75655.63093596 163907.57662892\n",
      " 127820.65259361 173714.63995753]\n"
     ]
    },
    {
     "data": {
      "text/plain": [
       "[140000, 109000, 187000, 100000, 160000, 175000, 77000, 121000, 160000, 130000]"
      ]
     },
     "execution_count": 18,
     "metadata": {},
     "output_type": "execute_result"
    }
   ],
   "source": [
    "print(predictions[:10])\n",
    "print(predictions2[:10])\n",
    "print(predictions3[:10])\n",
    "y_train[:10]"
   ]
  },
  {
   "cell_type": "code",
   "execution_count": 19,
   "metadata": {},
   "outputs": [],
   "source": [
    "# for key,value in dmaindices.items():\n",
    "    \n",
    "#     print(key, value)"
   ]
  },
  {
   "cell_type": "code",
   "execution_count": 20,
   "metadata": {},
   "outputs": [],
   "source": [
    "# print(len(dmaidcounts))\n",
    "\n",
    "# dmaidcounts['807']"
   ]
  },
  {
   "cell_type": "code",
   "execution_count": 21,
   "metadata": {},
   "outputs": [],
   "source": [
    "# for key,value in dmaidcounts.items():\n",
    "#     print(key, value)"
   ]
  },
  {
   "cell_type": "code",
   "execution_count": 22,
   "metadata": {},
   "outputs": [],
   "source": [
    "def MSE(predictions, labels):\n",
    "    differences = [(x-y)**2 for x,y in zip(predictions,labels)]\n",
    "    return sum(differences) / len(differences)"
   ]
  },
  {
   "cell_type": "code",
   "execution_count": 23,
   "metadata": {},
   "outputs": [],
   "source": [
    "def percent_err(y, pred):\n",
    "    tot = 0\n",
    "    for actual, pred in zip(y, pred):\n",
    "        tot += abs(100 * ((pred-actual) / pred))\n",
    "    avg = tot/len(y)\n",
    "    return avg"
   ]
  },
  {
   "cell_type": "code",
   "execution_count": 24,
   "metadata": {},
   "outputs": [],
   "source": [
    "#create feature vector for X_valid\n",
    "\n",
    "X_valid_dma = [dma_feat(str(d['dma_id']), dmaindices) for d in X_valid]\n",
    "X_valid_dma_yoe = [dma_yoe_feat(str(d['dma_id']), dmaindices, (float(d['experience']))) for d in X_valid]\n",
    "X_valid_dma_tenure = [dma_yoe_feat(str(d['dma_id']), dmaindices, (float(d['tenure']))) for d in X_valid]\n"
   ]
  },
  {
   "cell_type": "code",
   "execution_count": 25,
   "metadata": {},
   "outputs": [],
   "source": [
    "valid_predictions_dma = model.predict(X_valid_dma)\n",
    "valid_predictions_dma_yoe = model2.predict(X_valid_dma_yoe)\n",
    "valid_predictions_dma_tenure = model3.predict(X_valid_dma_tenure)\n"
   ]
  },
  {
   "cell_type": "code",
   "execution_count": 26,
   "metadata": {},
   "outputs": [
    {
     "name": "stdout",
     "output_type": "stream",
     "text": [
      "[172110.76604408  80311.85311475 133251.78907721  80311.85311475\n",
      " 151289.85975414 114580.41958042 172110.76604408 172110.76604408\n",
      " 172110.76604408 172110.76604408]\n",
      "[154452.35331169  80407.05846909 113833.26016513  80407.05846909\n",
      " 153438.67705316 105577.88468328 146226.39491405 150339.37411287\n",
      " 154452.35331169 162678.31170932]\n",
      "[163907.57662892  75655.63093596 132762.35936307  75655.63093596\n",
      " 154755.09341623 103476.03493736 167176.59773846 167176.59773846\n",
      " 167176.59773846 163907.57662892]\n",
      "[135000, 132000, 85000, 35000, 180000, 124000, 128000, 200000, 140000, 200000]\n"
     ]
    }
   ],
   "source": [
    "print(valid_predictions_dma[:10])\n",
    "\n",
    "print(valid_predictions_dma_yoe[:10])\n",
    "\n",
    "print(valid_predictions_dma_tenure[:10])\n",
    "\n",
    "print(y_valid[:10])"
   ]
  },
  {
   "cell_type": "code",
   "execution_count": 27,
   "metadata": {},
   "outputs": [
    {
     "data": {
      "text/plain": [
       "24.495947880469995"
      ]
     },
     "execution_count": 27,
     "metadata": {},
     "output_type": "execute_result"
    }
   ],
   "source": [
    "percent_err(y_valid, valid_predictions_dma )"
   ]
  },
  {
   "cell_type": "code",
   "execution_count": 28,
   "metadata": {},
   "outputs": [
    {
     "data": {
      "text/plain": [
       "2157142942.845791"
      ]
     },
     "execution_count": 28,
     "metadata": {},
     "output_type": "execute_result"
    }
   ],
   "source": [
    "MSE(y_valid, valid_predictions_dma )"
   ]
  },
  {
   "cell_type": "code",
   "execution_count": 29,
   "metadata": {},
   "outputs": [
    {
     "name": "stdout",
     "output_type": "stream",
     "text": [
      "20.160186682126422\n"
     ]
    },
    {
     "data": {
      "text/plain": [
       "1590097706.8308477"
      ]
     },
     "execution_count": 29,
     "metadata": {},
     "output_type": "execute_result"
    }
   ],
   "source": [
    "print(percent_err(y_valid, valid_predictions_dma_yoe))\n",
    "MSE(y_valid, valid_predictions_dma_yoe)\n",
    "\n",
    "\n"
   ]
  },
  {
   "cell_type": "code",
   "execution_count": 30,
   "metadata": {},
   "outputs": [
    {
     "name": "stdout",
     "output_type": "stream",
     "text": [
      "23.865535845509847\n"
     ]
    },
    {
     "data": {
      "text/plain": [
       "2058551558.4781947"
      ]
     },
     "execution_count": 30,
     "metadata": {},
     "output_type": "execute_result"
    }
   ],
   "source": [
    "print(percent_err(y_valid, valid_predictions_dma_tenure))\n",
    "MSE(y_valid, valid_predictions_dma_tenure)"
   ]
  }
 ],
 "metadata": {
  "kernelspec": {
   "display_name": "Python 3.9.12 ('base')",
   "language": "python",
   "name": "python3"
  },
  "language_info": {
   "codemirror_mode": {
    "name": "ipython",
    "version": 3
   },
   "file_extension": ".py",
   "mimetype": "text/x-python",
   "name": "python",
   "nbconvert_exporter": "python",
   "pygments_lexer": "ipython3",
   "version": "3.9.12"
  },
  "orig_nbformat": 4,
  "vscode": {
   "interpreter": {
    "hash": "beefaf9cabc690db9a48eb573d2d339ebd1102ab2f480c6d07b1a3e9ab1996e4"
   }
  }
 },
 "nbformat": 4,
 "nbformat_minor": 2
}
