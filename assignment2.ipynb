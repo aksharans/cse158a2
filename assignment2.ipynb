{
 "cells": [
  {
   "cell_type": "code",
   "execution_count": 215,
   "metadata": {},
   "outputs": [],
   "source": [
    "import gzip\n",
    "from collections import defaultdict\n",
    "from sklearn import linear_model\n",
    "import string\n",
    "import re\n",
    "import datetime, time"
   ]
  },
  {
   "cell_type": "code",
   "execution_count": 56,
   "metadata": {},
   "outputs": [],
   "source": [
    "def readCSV(path):\n",
    "    f = open(path, 'rt')\n",
    "    f.readline()\n",
    "\n",
    "    for l in f:\n",
    "        \n",
    "        if l.startswith(\"timestamp\"): \n",
    "            continue\n",
    "\n",
    "        try: \n",
    "            timestamp,company,level,title,totalyearlycompensation,location,yearsofexperience,yearsatcompany,tag,basesalary,stockgrantvalue,bonus,gender,otherdetails,cityid,dmaid,rowNumber,Masters_Degree,Bachelors_Degree,Doctorate_Degree,Highschool,Some_College,Race_Asian,Race_White,Race_Two_Or_More,Race_Black,Race_Hispanic,Race,Education = re.split(r',(?![ ])', l)\n",
    "\n",
    "        except:\n",
    "            continue\n",
    "\n",
    "        yield timestamp,company,level,title,totalyearlycompensation,location,yearsofexperience,yearsatcompany,tag,basesalary,stockgrantvalue,bonus,gender,otherdetails,cityid,dmaid,rowNumber,Masters_Degree,Bachelors_Degree,Doctorate_Degree,Highschool,Some_College,Race_Asian,Race_White,Race_Two_Or_More,Race_Black,Race_Hispanic,Race,Education\n"
   ]
  },
  {
   "cell_type": "code",
   "execution_count": 65,
   "metadata": {},
   "outputs": [],
   "source": [
    "salaryRaw = []\n",
    "for l in readCSV(\"Levels_Fyi_Salary_Data.csv\"):\n",
    "    salaryRaw.append(l)"
   ]
  },
  {
   "cell_type": "code",
   "execution_count": 66,
   "metadata": {},
   "outputs": [
    {
     "name": "stdout",
     "output_type": "stream",
     "text": [
      "62300\n",
      "('9/11/2017 13:51:51', 'Apple', 'ICT3', 'Software Engineer', '210000', '\"Cupertino, CA\"', '3', '2', 'NA', '130000', '50000', '30000', 'NA', 'NA', '7158', '807', '98', '0', '0', '0', '0', '0', '0', '0', '0', '0', '0', 'NA', 'NA\\n')\n"
     ]
    }
   ],
   "source": [
    "print(len(salaryRaw))\n",
    "print(salaryRaw[64])"
   ]
  },
  {
   "cell_type": "code",
   "execution_count": 227,
   "metadata": {},
   "outputs": [],
   "source": [
    "# unixtime, company, level, title, total_comp, city, state, experience, tenure, tag, \n",
    "# salary, stock, bonus, city_id, dma_id, id, ms_deg, bs_deg, phd_deg, hs, college\n",
    "\n",
    "salaryAllData = []\n",
    "\n",
    "# convert date/time to unix time\n",
    "\n",
    "for entry in salaryRaw:\n",
    "\n",
    "    date, clocktime = entry[0].split(' ')\n",
    "    date = date.split('/')\n",
    "    clocktime = clocktime.split(':')\n",
    "    timestamp = datetime.datetime(int(date[2]), int(date[0]), int(date[1]), int(clocktime[0]), int(clocktime[1]), int(clocktime[2]))\n",
    "    timestamp = int(time.mktime(timestamp.timetuple()))\n",
    "\n",
    "\n",
    "    company = entry[1]\n",
    "    level = entry[2]\n",
    "    title = entry[3]\n",
    "   \n",
    "    total_comp = int(float(entry[4]))\n",
    "\n",
    "    location = entry[5]\n",
    "    if location.count(',') == 2:\n",
    "        city, state, country = location.strip('\"').split(', ')\n",
    "    elif location.count(',') == 1:\n",
    "        city, state = location.strip('\"').split(', ')\n",
    "        country = 'USA'\n",
    "\n",
    "    experience = entry[6]\n",
    "    tenure = entry[7]\n",
    "\n",
    "    tag = entry[8]\n",
    "\n",
    "    salary = int(float(entry[9]))\n",
    "    if salary == 0:\n",
    "        continue\n",
    "\n",
    "    stock = int(float(entry[10]))\n",
    "    bonus = int(float(entry[11]))\n",
    "\n",
    "    g = entry[12]\n",
    "    gender = -1\n",
    "    if g == 'Female':\n",
    "        gender = 0\n",
    "    elif g == 'Male':\n",
    "        gender == 1\n",
    "\n",
    "    city_id = int(entry[14])\n",
    "    \n",
    "    try: \n",
    "        dma_id = int(entry[15])\n",
    "    except:\n",
    "        dma_id = -1\n",
    "    \n",
    "    id = int(entry[16])\n",
    "\n",
    "    ms_deg = int(entry[17])\n",
    "    bs_deg = int(entry[18])\n",
    "    phd_deg = int(entry[18])\n",
    "    hs = int(entry[19])\n",
    "    college = int(entry[20])\n",
    "\n",
    "    r = entry[27]\n",
    "    race = -1\n",
    "    if r == 'Asian': #11700\n",
    "        race = 0\n",
    "    elif r == 'Black': #684\n",
    "        race = 1\n",
    "    elif r == 'Hispanic': #1118\n",
    "        race = 2\n",
    "    elif r == 'Two Or More': #798\n",
    "        race = 3\n",
    "    elif r == 'White': #7975\n",
    "        race = 4\n",
    "\n",
    "    salaryAllData.append([id, timestamp, company, level, title, total_comp, city, state, experience, tenure, tag, \\\n",
    "            salary, stock, bonus, gender, city_id, dma_id, ms_deg, bs_deg, phd_deg, hs, college, race])\n"
   ]
  },
  {
   "cell_type": "code",
   "execution_count": 228,
   "metadata": {},
   "outputs": [
    {
     "name": "stdout",
     "output_type": "stream",
     "text": [
      "59996\n",
      "[21317, 1580317204, 'Capital One', 'Principal Associate', 'Software Engineer', 136000, 'Washington', 'DC', '13', '2', 'Full Stack', 130000, 0, 6000, -1, 40303, 511, 0, 0, 0, 0, 0, -1]\n"
     ]
    }
   ],
   "source": [
    "print(len(salaryAllData))\n",
    "print(salaryAllData[13423])"
   ]
  }
 ],
 "metadata": {
  "kernelspec": {
   "display_name": "Python 3.9.13 ('cse158')",
   "language": "python",
   "name": "python3"
  },
  "language_info": {
   "codemirror_mode": {
    "name": "ipython",
    "version": 3
   },
   "file_extension": ".py",
   "mimetype": "text/x-python",
   "name": "python",
   "nbconvert_exporter": "python",
   "pygments_lexer": "ipython3",
   "version": "3.9.13"
  },
  "orig_nbformat": 4,
  "vscode": {
   "interpreter": {
    "hash": "ac74f00bb737bda1193c7532d1e44c439c6667b487a94e2d9bb09c77518a7e40"
   }
  }
 },
 "nbformat": 4,
 "nbformat_minor": 2
}
