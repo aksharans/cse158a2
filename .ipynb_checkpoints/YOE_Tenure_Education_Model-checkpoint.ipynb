{
 "cells": [
  {
   "cell_type": "code",
   "execution_count": 632,
   "id": "b3021cc8",
   "metadata": {},
   "outputs": [],
   "source": [
    "import gzip\n",
    "from collections import defaultdict\n",
    "import sklearn\n",
    "from sklearn import linear_model\n",
    "import string\n",
    "import re\n",
    "import datetime, time\n",
    "import matplotlib.pyplot as plt\n",
    "import numpy as np\n",
    "import matplotlib.dates as md\n",
    "import math\n",
    "import pandas as pd"
   ]
  },
  {
   "cell_type": "code",
   "execution_count": 633,
   "id": "ce43d223",
   "metadata": {},
   "outputs": [],
   "source": [
    "#####\n",
    "# Setup\n",
    "#####"
   ]
  },
  {
   "cell_type": "code",
   "execution_count": 634,
   "id": "e5b31e73",
   "metadata": {},
   "outputs": [],
   "source": [
    "def readCSV(path):\n",
    "    f = open(path, 'rt')\n",
    "    f.readline()\n",
    "\n",
    "    for l in f:\n",
    "        \n",
    "        if l.startswith(\"timestamp\"): \n",
    "            continue\n",
    "\n",
    "        try: \n",
    "            timestamp,company,level,title,totalyearlycompensation,location,yearsofexperience,yearsatcompany,tag,basesalary,stockgrantvalue,bonus,gender,otherdetails,cityid,dmaid,rowNumber,Masters_Degree,Bachelors_Degree,Doctorate_Degree,Highschool,Some_College,Race_Asian,Race_White,Race_Two_Or_More,Race_Black,Race_Hispanic,Race,Education = re.split(r',(?![ ])', l)\n",
    "\n",
    "        except:\n",
    "            continue\n",
    "\n",
    "        yield timestamp,company,level,title,totalyearlycompensation,location,yearsofexperience,yearsatcompany,tag,basesalary,stockgrantvalue,bonus,gender,otherdetails,cityid,dmaid,rowNumber,Masters_Degree,Bachelors_Degree,Doctorate_Degree,Highschool,Some_College,Race_Asian,Race_White,Race_Two_Or_More,Race_Black,Race_Hispanic,Race,Education"
   ]
  },
  {
   "cell_type": "code",
   "execution_count": 635,
   "id": "9b152a33",
   "metadata": {},
   "outputs": [],
   "source": [
    "def MSE(predictions, labels):\n",
    "    differences = [(x-y)**2 for x,y in zip(predictions,labels)]\n",
    "    return sum(differences) / len(differences)"
   ]
  },
  {
   "cell_type": "code",
   "execution_count": 636,
   "id": "16fcaae0",
   "metadata": {},
   "outputs": [],
   "source": [
    "#####\n",
    "# Parse data from dataset\n",
    "#####"
   ]
  },
  {
   "cell_type": "code",
   "execution_count": 637,
   "id": "7748719d",
   "metadata": {},
   "outputs": [],
   "source": [
    "# id , unixtime, company, level, title, total_comp, city, state, experience, tenure, tag, \n",
    "# salary, stock, bonus, city_id, dma_id, ms_deg, bs_deg, phd_deg, hs, college\n",
    "def parseSalaryRaw(salaryRaw):\n",
    "    salaryAllData = []\n",
    "\n",
    "    for entry in salaryRaw:\n",
    "\n",
    "        date, clocktime = entry[0].split(' ')\n",
    "        date = date.split('/')\n",
    "        clocktime = clocktime.split(':')\n",
    "        timestamp = datetime.datetime(int(date[2]), int(date[0]), int(date[1]), int(clocktime[0]), int(clocktime[1]), int(clocktime[2]))\n",
    "        timestamp = int(time.mktime(timestamp.timetuple()))\n",
    "\n",
    "\n",
    "        company = entry[1]\n",
    "        level = entry[2]\n",
    "        title = entry[3]\n",
    "\n",
    "        total_comp = int(float(entry[4]))\n",
    "\n",
    "        location = entry[5]\n",
    "        if location.count(',') == 2:\n",
    "            city, state, country = location.strip('\"').split(', ')\n",
    "        elif location.count(',') == 1:\n",
    "            city, state = location.strip('\"').split(', ')\n",
    "            country = 'USA'\n",
    "\n",
    "        experience = entry[6]\n",
    "        tenure = entry[7]\n",
    "\n",
    "        tag = entry[8]\n",
    "\n",
    "        salary = int(float(entry[9]))\n",
    "        if salary == 0:\n",
    "            continue\n",
    "\n",
    "        stock = int(float(entry[10]))\n",
    "        bonus = int(float(entry[11]))\n",
    "\n",
    "        g = entry[12]\n",
    "        gender = -1\n",
    "        if g == 'Female':\n",
    "            gender = 0\n",
    "        elif g == 'Male':\n",
    "            gender = 1\n",
    "        elif g == 'Other':\n",
    "            gender = 2\n",
    "\n",
    "        city_id = int(entry[14])\n",
    "\n",
    "        try: \n",
    "            dma_id = int(entry[15])\n",
    "        except:\n",
    "            dma_id = -1\n",
    "\n",
    "        id = int(entry[16])\n",
    "\n",
    "        ms_deg = int(entry[17])\n",
    "        bs_deg = int(entry[18])\n",
    "        phd_deg = int(entry[18])\n",
    "        hs = int(entry[19])\n",
    "        college = int(entry[20])\n",
    "\n",
    "        r = entry[27]\n",
    "        race = -1\n",
    "        if r == 'Asian':\n",
    "            race = 0\n",
    "        elif r == 'Black':\n",
    "            race = 1\n",
    "        elif r == 'Hispanic':\n",
    "            race = 2\n",
    "        elif r == 'Two Or More':\n",
    "            race = 3\n",
    "        elif r == 'White':\n",
    "            race = 4\n",
    "\n",
    "\n",
    "        salaryAllData.append({\n",
    "            'id': id,\n",
    "            'timestamp': timestamp,\n",
    "            'company': company,\n",
    "            'level': level,\n",
    "            'title': title,\n",
    "            'total_comp': total_comp,\n",
    "            'city': city,\n",
    "            'state': state,\n",
    "            'country': country,\n",
    "            'experience': experience,\n",
    "            'tenure': tenure,\n",
    "            'tag': tag,\n",
    "            'salary': salary,\n",
    "            'stock': stock,\n",
    "            'bonus': bonus,\n",
    "            'gender': gender,\n",
    "            'city_id': city_id,\n",
    "            'dma_id': dma_id,\n",
    "            'ms_deg': ms_deg,\n",
    "            'bs_deg': bs_deg,\n",
    "            'phd_deg': phd_deg,\n",
    "            'hs': hs,\n",
    "            'college': college,\n",
    "            'race': race,\n",
    "        })\n",
    "    return salaryAllData\n"
   ]
  },
  {
   "cell_type": "code",
   "execution_count": 638,
   "id": "ad341800",
   "metadata": {},
   "outputs": [
    {
     "data": {
      "text/plain": [
       "1"
      ]
     },
     "execution_count": 638,
     "metadata": {},
     "output_type": "execute_result"
    }
   ],
   "source": [
    "# Reparse data from CSV so we don't mess up above data\n",
    "salaryRaw = []\n",
    "for l in readCSV(\"Levels_Fyi_Salary_Data.csv\"):\n",
    "    salaryRaw.append(l)\n",
    "\n",
    "salaryAllData = parseSalaryRaw(salaryRaw)\n",
    "salaryAllData[0]['id']"
   ]
  },
  {
   "cell_type": "code",
   "execution_count": 639,
   "id": "bf37090a",
   "metadata": {},
   "outputs": [],
   "source": [
    "# Parse raw data\n",
    "salaryAllData = parseSalaryRaw(salaryRaw)"
   ]
  },
  {
   "cell_type": "code",
   "execution_count": 640,
   "id": "263da96a",
   "metadata": {},
   "outputs": [
    {
     "name": "stdout",
     "output_type": "stream",
     "text": [
      "47996, 47996\n",
      "6000, 6000\n",
      "6000, 6000\n",
      "59139, 21629, 67680\n"
     ]
    }
   ],
   "source": [
    "#####\n",
    "# Training, Validation, and Test sets\n",
    "#####\n",
    "\n",
    "# shuffle data\n",
    "shuffledAllData = sklearn.utils.shuffle(salaryAllData)\n",
    "shuffledAllData[0]['id']\n",
    "\n",
    "# create 80 / 10 / 10 : Train / Validation / Test sets\n",
    "X = shuffledAllData\n",
    "y = [d['salary'] for d in shuffledAllData]\n",
    "\n",
    "X_train, X_temp, y_train, y_temp = sklearn.model_selection.train_test_split(X, y, test_size=0.2, random_state=1)\n",
    "X_valid, X_test, y_valid, y_test = sklearn.model_selection.train_test_split(X_temp, y_temp, test_size=0.5, random_state=1)\n",
    "\n",
    "# Validate that sets were created with propper sizes\n",
    "print(str(len(X_train)) + \", \" + str(len(y_train)))\n",
    "print(str(len(X_valid)) + \", \" + str(len(y_valid)))\n",
    "print(str(len(X_test)) + \", \" + str(len(y_test)))\n",
    "\n",
    "# Validate all ids are different\n",
    "print(str(X_train[0]['id']) + \", \" + str(X_valid[0]['id']) + \", \" + str(X_test[0]['id']))"
   ]
  },
  {
   "cell_type": "code",
   "execution_count": 641,
   "id": "67ccafa3",
   "metadata": {},
   "outputs": [],
   "source": [
    "#####\n",
    "# Baselines\n",
    "#   1. Predict average salary in dataset\n",
    "#   2. Predict average salary for given Years of Experience\n",
    "#####"
   ]
  },
  {
   "cell_type": "code",
   "execution_count": 642,
   "id": "ca7b8083",
   "metadata": {},
   "outputs": [
    {
     "name": "stdout",
     "output_type": "stream",
     "text": [
      "Average salary: 141737.45207933994\n"
     ]
    }
   ],
   "source": [
    "# Create some useful collections for these baseline\n",
    "\n",
    "# create YOE to Average Map based on training data\n",
    "# We create two dictionaries to track the total salary seen at each YOE\n",
    "salByExpMap = defaultdict(int)\n",
    "\n",
    "# And the number of salaries seen at that YOE\n",
    "entriesByExpMap = defaultdict(int)\n",
    "\n",
    "# For each entry increment the total sal and num entries at that YOE\n",
    "# (This could be done with a running avg technique but that is too much work to code)\n",
    "for x in X_train:\n",
    "    exp, sal = float(x['experience']), float(x['salary'])\n",
    "    exp = math.ceil(exp)\n",
    "    \n",
    "    total = 0\n",
    "    numEntries = 0\n",
    "    \n",
    "    if salByExpMap[exp]:\n",
    "        total = salByExpMap[exp]\n",
    "    if entriesByExpMap[exp]:\n",
    "        numEntries = entriesByExpMap[exp]\n",
    "    \n",
    "    total += sal\n",
    "    numEntries += 1\n",
    "    \n",
    "    salByExpMap[exp] = total\n",
    "    entriesByExpMap[exp] = numEntries\n",
    "    \n",
    "\n",
    "    \n",
    "# Calculate averages by YOE as well as total avg\n",
    "totalSal = 0\n",
    "totalCount = 0\n",
    "\n",
    "averageSalaryByYoeMap = defaultdict(int)\n",
    "for exp in entriesByExpMap:\n",
    "    avg = salByExpMap[exp] / entriesByExpMap[exp]\n",
    "    averageSalaryByYoeMap[exp] = avg\n",
    "    \n",
    "    totalSal += salByExpMap[exp]\n",
    "    totalCount += entriesByExpMap[exp]\n",
    "\n",
    "avgSal = totalSal / totalCount\n",
    "\n",
    "print(\"Average salary: \" + str(avgSal))\n",
    "\n",
    "\n",
    "def pred_baseline1(x):    \n",
    "    return avgSal\n",
    "    \n",
    "def pred_baseline2(x):    \n",
    "    exp = math.ceil(float(x['experience']))\n",
    "\n",
    "    if averageSalaryByYoeMap[exp]:\n",
    "        return averageSalaryByYoeMap[exp]\n",
    "    else:\n",
    "        return avgSal"
   ]
  },
  {
   "cell_type": "code",
   "execution_count": 643,
   "id": "6d3f1878",
   "metadata": {},
   "outputs": [],
   "source": [
    "def baseline1():\n",
    "    # Returns average salary in dataset\n",
    "    y_b1 = []\n",
    "    y_b1_pred = []\n",
    "    \n",
    "    avg_err = 0\n",
    "    avg_percent_err = 0\n",
    "    \n",
    "    for d in X_valid:\n",
    "        pred = pred_baseline1(d)\n",
    "        actual = d['salary']\n",
    "        \n",
    "        y_b1_pred.append(pred)\n",
    "        y_b1.append(actual)\n",
    "        \n",
    "        avg_err += abs(actual - pred)\n",
    "        avg_percent_err += abs(100 * ((pred - actual) / pred))\n",
    "        \n",
    "    mse = MSE(y_b1_pred, y_b1)\n",
    "    \n",
    "    avg_err = avg_err / len(X_valid)\n",
    "    avg_percent_err = avg_percent_err / len(X_valid)\n",
    "    \n",
    "    return mse, avg_err, avg_percent_err"
   ]
  },
  {
   "cell_type": "code",
   "execution_count": 644,
   "id": "b4e36a41",
   "metadata": {},
   "outputs": [
    {
     "name": "stdout",
     "output_type": "stream",
     "text": [
      "3466662889.8535566\n",
      "40092.18442224346\n",
      "28.286231926760788\n"
     ]
    }
   ],
   "source": [
    "mse_b1, avg_err_b1, avg_percent_err_b1 = baseline1()\n",
    "print(mse_b1)\n",
    "print(avg_err_b1)\n",
    "print(avg_percent_err_b1)"
   ]
  },
  {
   "cell_type": "code",
   "execution_count": 645,
   "id": "b11c5e18",
   "metadata": {},
   "outputs": [],
   "source": [
    "def baseline2():\n",
    "    # Takes rounded YOE for each datapoint and predicts average salary for that YOE\n",
    "    # If there are no entries for that YOE, predict overall average\n",
    "    y_b1 = []\n",
    "    y_b1_pred = []\n",
    "    \n",
    "    avg_err = 0\n",
    "    avg_percent_err = 0\n",
    "    \n",
    "    for d in X_valid:\n",
    "        pred = pred_baseline2(d)\n",
    "        actual = d['salary']\n",
    "        \n",
    "        y_b1_pred.append(pred)\n",
    "        y_b1.append(actual)\n",
    "        \n",
    "        avg_err += abs(actual - pred)\n",
    "        avg_percent_err += abs(100 * ((pred - actual) / pred))\n",
    "        \n",
    "    mse = MSE(y_b1_pred, y_b1)\n",
    "    \n",
    "    avg_err = avg_err / len(X_valid)\n",
    "    avg_percent_err = avg_percent_err / len(X_valid)\n",
    "    \n",
    "    return mse, avg_err, avg_percent_err"
   ]
  },
  {
   "cell_type": "code",
   "execution_count": 646,
   "id": "f53a1c2f",
   "metadata": {
    "scrolled": true
   },
   "outputs": [
    {
     "name": "stdout",
     "output_type": "stream",
     "text": [
      "2816750287.741484\n",
      "35068.20679670724\n",
      "24.786738679674972\n"
     ]
    }
   ],
   "source": [
    "mse_b2, avg_err_b2, avg_percent_err_b2 = baseline2()\n",
    "print(mse_b2)\n",
    "print(avg_err_b2)\n",
    "print(avg_percent_err_b2)"
   ]
  },
  {
   "cell_type": "code",
   "execution_count": 647,
   "id": "ad2cbdc9",
   "metadata": {},
   "outputs": [],
   "source": [
    "#####\n",
    "# Model\n",
    "#####"
   ]
  },
  {
   "cell_type": "code",
   "execution_count": 648,
   "id": "5670f5db",
   "metadata": {},
   "outputs": [],
   "source": [
    "#####\n",
    "# Provide a description of your model:\n",
    "#      1. What model are you using\n",
    "#      2. What information are you trying to incorporate into your model\n",
    "#      3. How are you building your feature vector?\n",
    "#      4. What interesting pieces of information did you learn? (i.e. most influential words, popular cities, etc)\n",
    "#####\n",
    "\n",
    "# Write description in comments here"
   ]
  },
  {
   "cell_type": "code",
   "execution_count": 649,
   "id": "a4344905",
   "metadata": {},
   "outputs": [],
   "source": [
    "# Model code starts here"
   ]
  },
  {
   "cell_type": "code",
   "execution_count": 688,
   "id": "ba73828b",
   "metadata": {},
   "outputs": [],
   "source": [
    "def feat(d):\n",
    "    exp = float(d['experience'])\n",
    "    ten = float(d['tenure'])\n",
    "    if d['hs'] == 1:\n",
    "        edu = 12.0\n",
    "    elif d['college'] == 1:\n",
    "        edu = 14.0\n",
    "    elif d['bs_deg'] == 1:\n",
    "        edu = 16.0\n",
    "    elif d['ms_deg'] == 1:\n",
    "        edu = 18.0\n",
    "    elif d['phd_deg'] == 1:\n",
    "        edu = 21.0\n",
    "    else:\n",
    "        edu = 16.0\n",
    "    return [1, exp**.5, ten, edu]"
   ]
  },
  {
   "cell_type": "code",
   "execution_count": 689,
   "id": "50998e4d",
   "metadata": {},
   "outputs": [],
   "source": [
    "def standardize(Xvector):\n",
    "    a = np.array(Xvector)\n",
    "    b = a/np.max(a, axis=0)\n",
    "    return b.tolist()"
   ]
  },
  {
   "cell_type": "code",
   "execution_count": 690,
   "id": "7da5d439",
   "metadata": {},
   "outputs": [],
   "source": [
    "def percent_err(y, pred):\n",
    "    tot = 0\n",
    "    for actual, pred in zip(y, pred):\n",
    "        tot += abs(100 * ((pred-actual) / pred))\n",
    "    avg = tot/len(y)\n",
    "    return avg"
   ]
  },
  {
   "cell_type": "code",
   "execution_count": 691,
   "id": "831bf245",
   "metadata": {},
   "outputs": [],
   "source": [
    "X1 = standardize([feat(d) for d in X_train])\n",
    "X2 = standardize([feat(d) for d in X_valid])\n",
    "X3 = standardize([feat(d) for d in X_test])\n",
    "\n",
    "y1 = [d['salary'] for d in X_train]\n",
    "y2 = [d['salary'] for d in X_valid]\n",
    "y3 = [d['salary'] for d in X_test]"
   ]
  },
  {
   "cell_type": "code",
   "execution_count": 692,
   "id": "de263a0e",
   "metadata": {},
   "outputs": [],
   "source": [
    "#linear regression"
   ]
  },
  {
   "cell_type": "code",
   "execution_count": 693,
   "id": "164dcb60",
   "metadata": {
    "scrolled": false
   },
   "outputs": [
    {
     "data": {
      "text/plain": [
       "LinearRegression(fit_intercept=False)"
      ]
     },
     "execution_count": 693,
     "metadata": {},
     "output_type": "execute_result"
    }
   ],
   "source": [
    "mod = linear_model.LinearRegression(fit_intercept=False)\n",
    "mod.fit(X1, y1)"
   ]
  },
  {
   "cell_type": "code",
   "execution_count": 694,
   "id": "17904817",
   "metadata": {},
   "outputs": [],
   "source": [
    "pred = mod.predict(X2)"
   ]
  },
  {
   "cell_type": "code",
   "execution_count": 695,
   "id": "db5b802c",
   "metadata": {},
   "outputs": [],
   "source": [
    "df = pd.DataFrame({'y': y2, 'pred': pred})"
   ]
  },
  {
   "cell_type": "code",
   "execution_count": 696,
   "id": "d8812b7c",
   "metadata": {},
   "outputs": [
    {
     "data": {
      "text/html": [
       "<div>\n",
       "<style scoped>\n",
       "    .dataframe tbody tr th:only-of-type {\n",
       "        vertical-align: middle;\n",
       "    }\n",
       "\n",
       "    .dataframe tbody tr th {\n",
       "        vertical-align: top;\n",
       "    }\n",
       "\n",
       "    .dataframe thead th {\n",
       "        text-align: right;\n",
       "    }\n",
       "</style>\n",
       "<table border=\"1\" class=\"dataframe\">\n",
       "  <thead>\n",
       "    <tr style=\"text-align: right;\">\n",
       "      <th></th>\n",
       "      <th>y</th>\n",
       "      <th>pred</th>\n",
       "    </tr>\n",
       "  </thead>\n",
       "  <tbody>\n",
       "    <tr>\n",
       "      <th>0</th>\n",
       "      <td>100000</td>\n",
       "      <td>138247.914570</td>\n",
       "    </tr>\n",
       "    <tr>\n",
       "      <th>1</th>\n",
       "      <td>142000</td>\n",
       "      <td>178572.846939</td>\n",
       "    </tr>\n",
       "    <tr>\n",
       "      <th>2</th>\n",
       "      <td>13000</td>\n",
       "      <td>151478.209572</td>\n",
       "    </tr>\n",
       "    <tr>\n",
       "      <th>3</th>\n",
       "      <td>70000</td>\n",
       "      <td>132842.609317</td>\n",
       "    </tr>\n",
       "    <tr>\n",
       "      <th>4</th>\n",
       "      <td>150000</td>\n",
       "      <td>188202.651072</td>\n",
       "    </tr>\n",
       "    <tr>\n",
       "      <th>...</th>\n",
       "      <td>...</td>\n",
       "      <td>...</td>\n",
       "    </tr>\n",
       "    <tr>\n",
       "      <th>5995</th>\n",
       "      <td>240000</td>\n",
       "      <td>219336.235643</td>\n",
       "    </tr>\n",
       "    <tr>\n",
       "      <th>5996</th>\n",
       "      <td>133000</td>\n",
       "      <td>154163.616726</td>\n",
       "    </tr>\n",
       "    <tr>\n",
       "      <th>5997</th>\n",
       "      <td>127000</td>\n",
       "      <td>125326.621707</td>\n",
       "    </tr>\n",
       "    <tr>\n",
       "      <th>5998</th>\n",
       "      <td>250000</td>\n",
       "      <td>147962.788134</td>\n",
       "    </tr>\n",
       "    <tr>\n",
       "      <th>5999</th>\n",
       "      <td>100000</td>\n",
       "      <td>142176.864810</td>\n",
       "    </tr>\n",
       "  </tbody>\n",
       "</table>\n",
       "<p>6000 rows × 2 columns</p>\n",
       "</div>"
      ],
      "text/plain": [
       "           y           pred\n",
       "0     100000  138247.914570\n",
       "1     142000  178572.846939\n",
       "2      13000  151478.209572\n",
       "3      70000  132842.609317\n",
       "4     150000  188202.651072\n",
       "...      ...            ...\n",
       "5995  240000  219336.235643\n",
       "5996  133000  154163.616726\n",
       "5997  127000  125326.621707\n",
       "5998  250000  147962.788134\n",
       "5999  100000  142176.864810\n",
       "\n",
       "[6000 rows x 2 columns]"
      ]
     },
     "execution_count": 696,
     "metadata": {},
     "output_type": "execute_result"
    }
   ],
   "source": [
    "df"
   ]
  },
  {
   "cell_type": "code",
   "execution_count": 697,
   "id": "41d7523b",
   "metadata": {},
   "outputs": [
    {
     "data": {
      "text/plain": [
       "24.117836356333108"
      ]
     },
     "execution_count": 697,
     "metadata": {},
     "output_type": "execute_result"
    }
   ],
   "source": [
    "percent_err(y2, pred)"
   ]
  },
  {
   "cell_type": "code",
   "execution_count": 698,
   "id": "528a2a5c",
   "metadata": {},
   "outputs": [
    {
     "data": {
      "text/plain": [
       "3052206846.895909"
      ]
     },
     "execution_count": 698,
     "metadata": {},
     "output_type": "execute_result"
    }
   ],
   "source": [
    "MSE(y2, pred)"
   ]
  },
  {
   "cell_type": "code",
   "execution_count": 699,
   "id": "02fbaa32",
   "metadata": {},
   "outputs": [],
   "source": [
    "#gradient boosting regression"
   ]
  },
  {
   "cell_type": "code",
   "execution_count": 700,
   "id": "596864d7",
   "metadata": {},
   "outputs": [],
   "source": [
    "from sklearn import ensemble"
   ]
  },
  {
   "cell_type": "code",
   "execution_count": 701,
   "id": "78817788",
   "metadata": {},
   "outputs": [],
   "source": [
    "params = {\n",
    "    \"n_estimators\": 450,\n",
    "    \"max_depth\": 1,\n",
    "    \"min_samples_split\": 4,\n",
    "    \"learning_rate\": 0.02,\n",
    "    \"loss\": \"squared_error\",\n",
    "    \"n_iter_no_change\" : 10,\n",
    "    \"subsample\" : 0.9\n",
    "}"
   ]
  },
  {
   "cell_type": "code",
   "execution_count": 702,
   "id": "5567e6fe",
   "metadata": {},
   "outputs": [
    {
     "data": {
      "text/plain": [
       "GradientBoostingRegressor(learning_rate=0.02, max_depth=1, min_samples_split=4,\n",
       "                          n_estimators=450, n_iter_no_change=10, subsample=0.9)"
      ]
     },
     "execution_count": 702,
     "metadata": {},
     "output_type": "execute_result"
    }
   ],
   "source": [
    "reg = ensemble.GradientBoostingRegressor(**params)\n",
    "reg.fit(X1, y1)"
   ]
  },
  {
   "cell_type": "code",
   "execution_count": 703,
   "id": "d5064a12",
   "metadata": {},
   "outputs": [],
   "source": [
    "pred = reg.predict(X2)"
   ]
  },
  {
   "cell_type": "code",
   "execution_count": 704,
   "id": "e4feddc4",
   "metadata": {},
   "outputs": [
    {
     "data": {
      "text/plain": [
       "22.935012783663964"
      ]
     },
     "execution_count": 704,
     "metadata": {},
     "output_type": "execute_result"
    }
   ],
   "source": [
    "percent_err(y2, pred)"
   ]
  },
  {
   "cell_type": "code",
   "execution_count": 705,
   "id": "8c93f550",
   "metadata": {},
   "outputs": [
    {
     "data": {
      "text/plain": [
       "2952828966.7713795"
      ]
     },
     "execution_count": 705,
     "metadata": {},
     "output_type": "execute_result"
    }
   ],
   "source": [
    "MSE(y2, pred)"
   ]
  }
 ],
 "metadata": {
  "kernelspec": {
   "display_name": "Python 3 (ipykernel)",
   "language": "python",
   "name": "python3"
  },
  "language_info": {
   "codemirror_mode": {
    "name": "ipython",
    "version": 3
   },
   "file_extension": ".py",
   "mimetype": "text/x-python",
   "name": "python",
   "nbconvert_exporter": "python",
   "pygments_lexer": "ipython3",
   "version": "3.9.12"
  }
 },
 "nbformat": 4,
 "nbformat_minor": 5
}
