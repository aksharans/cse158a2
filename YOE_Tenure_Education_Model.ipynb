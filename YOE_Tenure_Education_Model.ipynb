{
 "cells": [
  {
   "cell_type": "code",
   "execution_count": 1,
   "id": "b3021cc8",
   "metadata": {},
   "outputs": [],
   "source": [
    "import gzip\n",
    "from collections import defaultdict\n",
    "import sklearn\n",
    "from sklearn import linear_model\n",
    "import string\n",
    "import re\n",
    "import datetime, time\n",
    "import matplotlib.pyplot as plt\n",
    "import numpy as np\n",
    "import matplotlib.dates as md\n",
    "import math\n",
    "import pandas as pd"
   ]
  },
  {
   "cell_type": "code",
   "execution_count": 2,
   "id": "ce43d223",
   "metadata": {},
   "outputs": [],
   "source": [
    "#####\n",
    "# Setup\n",
    "#####"
   ]
  },
  {
   "cell_type": "code",
   "execution_count": 3,
   "id": "e5b31e73",
   "metadata": {},
   "outputs": [],
   "source": [
    "def readCSV(path):\n",
    "    f = open(path, 'rt')\n",
    "    f.readline()\n",
    "\n",
    "    for l in f:\n",
    "        \n",
    "        if l.startswith(\"timestamp\"): \n",
    "            continue\n",
    "\n",
    "        try: \n",
    "            timestamp,company,level,title,totalyearlycompensation,location,yearsofexperience,yearsatcompany,tag,basesalary,stockgrantvalue,bonus,gender,otherdetails,cityid,dmaid,rowNumber,Masters_Degree,Bachelors_Degree,Doctorate_Degree,Highschool,Some_College,Race_Asian,Race_White,Race_Two_Or_More,Race_Black,Race_Hispanic,Race,Education = re.split(r',(?![ ])', l)\n",
    "\n",
    "        except:\n",
    "            continue\n",
    "\n",
    "        yield timestamp,company,level,title,totalyearlycompensation,location,yearsofexperience,yearsatcompany,tag,basesalary,stockgrantvalue,bonus,gender,otherdetails,cityid,dmaid,rowNumber,Masters_Degree,Bachelors_Degree,Doctorate_Degree,Highschool,Some_College,Race_Asian,Race_White,Race_Two_Or_More,Race_Black,Race_Hispanic,Race,Education"
   ]
  },
  {
   "cell_type": "code",
   "execution_count": 4,
   "id": "9b152a33",
   "metadata": {},
   "outputs": [],
   "source": [
    "def MSE(predictions, labels):\n",
    "    differences = [(x-y)**2 for x,y in zip(predictions,labels)]\n",
    "    return sum(differences) / len(differences)"
   ]
  },
  {
   "cell_type": "code",
   "execution_count": 5,
   "id": "16fcaae0",
   "metadata": {},
   "outputs": [],
   "source": [
    "#####\n",
    "# Parse data from dataset\n",
    "#####"
   ]
  },
  {
   "cell_type": "code",
   "execution_count": 393,
   "id": "a8967e49",
   "metadata": {},
   "outputs": [
    {
     "data": {
      "text/plain": [
       "('6/7/2017 11:33:27',\n",
       " 'Oracle',\n",
       " 'L3',\n",
       " 'Product Manager',\n",
       " '127000',\n",
       " '\"Redwood City, CA\"',\n",
       " '1.5',\n",
       " '1.5',\n",
       " 'NA',\n",
       " '107000',\n",
       " '20000',\n",
       " '10000',\n",
       " 'NA',\n",
       " 'NA',\n",
       " '7392',\n",
       " '807',\n",
       " '1',\n",
       " '0',\n",
       " '0',\n",
       " '0',\n",
       " '0',\n",
       " '0',\n",
       " '0',\n",
       " '0',\n",
       " '0',\n",
       " '0',\n",
       " '0',\n",
       " 'NA',\n",
       " 'NA\\n')"
      ]
     },
     "execution_count": 393,
     "metadata": {},
     "output_type": "execute_result"
    }
   ],
   "source": [
    "salaryRaw[0]"
   ]
  },
  {
   "cell_type": "code",
   "execution_count": 6,
   "id": "7748719d",
   "metadata": {},
   "outputs": [],
   "source": [
    "# id , unixtime, company, level, title, total_comp, city, state, experience, tenure, tag, \n",
    "# salary, stock, bonus, city_id, dma_id, ms_deg, bs_deg, phd_deg, hs, college\n",
    "def parseSalaryRaw(salaryRaw):\n",
    "    salaryAllData = []\n",
    "\n",
    "    for entry in salaryRaw:\n",
    "\n",
    "        date, clocktime = entry[0].split(' ')\n",
    "        date = date.split('/')\n",
    "        clocktime = clocktime.split(':')\n",
    "        timestamp = datetime.datetime(int(date[2]), int(date[0]), int(date[1]), int(clocktime[0]), int(clocktime[1]), int(clocktime[2]))\n",
    "        timestamp = int(time.mktime(timestamp.timetuple()))\n",
    "\n",
    "\n",
    "        company = entry[1]\n",
    "        level = entry[2]\n",
    "        title = entry[3]\n",
    "\n",
    "        total_comp = int(float(entry[4]))\n",
    "\n",
    "        location = entry[5]\n",
    "        if location.count(',') == 2:\n",
    "            city, state, country = location.strip('\"').split(', ')\n",
    "        elif location.count(',') == 1:\n",
    "            city, state = location.strip('\"').split(', ')\n",
    "            country = 'USA'\n",
    "\n",
    "        experience = entry[6]\n",
    "        tenure = entry[7]\n",
    "\n",
    "        tag = entry[8]\n",
    "\n",
    "        salary = int(float(entry[9]))\n",
    "        if salary == 0:\n",
    "            continue\n",
    "\n",
    "        stock = int(float(entry[10]))\n",
    "        bonus = int(float(entry[11]))\n",
    "\n",
    "        g = entry[12]\n",
    "        gender = -1\n",
    "        if g == 'Female':\n",
    "            gender = 0\n",
    "        elif g == 'Male':\n",
    "            gender = 1\n",
    "        elif g == 'Other':\n",
    "            gender = 2\n",
    "\n",
    "        city_id = int(entry[14])\n",
    "\n",
    "        try: \n",
    "            dma_id = int(entry[15])\n",
    "        except:\n",
    "            dma_id = -1\n",
    "\n",
    "        id = int(entry[16])\n",
    "\n",
    "        ms_deg = int(entry[17])\n",
    "        bs_deg = int(entry[18])\n",
    "        phd_deg = int(entry[18])\n",
    "        hs = int(entry[19])\n",
    "        college = int(entry[20])\n",
    "\n",
    "        r = entry[27]\n",
    "        race = -1\n",
    "        if r == 'Asian':\n",
    "            race = 0\n",
    "        elif r == 'Black':\n",
    "            race = 1\n",
    "        elif r == 'Hispanic':\n",
    "            race = 2\n",
    "        elif r == 'Two Or More':\n",
    "            race = 3\n",
    "        elif r == 'White':\n",
    "            race = 4\n",
    "\n",
    "\n",
    "        salaryAllData.append({\n",
    "            'id': id,\n",
    "            'timestamp': timestamp,\n",
    "            'company': company,\n",
    "            'level': level,\n",
    "            'title': title,\n",
    "            'total_comp': total_comp,\n",
    "            'city': city,\n",
    "            'state': state,\n",
    "            'country': country,\n",
    "            'experience': experience,\n",
    "            'tenure': tenure,\n",
    "            'tag': tag,\n",
    "            'salary': salary,\n",
    "            'stock': stock,\n",
    "            'bonus': bonus,\n",
    "            'gender': gender,\n",
    "            'city_id': city_id,\n",
    "            'dma_id': dma_id,\n",
    "            'ms_deg': ms_deg,\n",
    "            'bs_deg': bs_deg,\n",
    "            'phd_deg': phd_deg,\n",
    "            'hs': hs,\n",
    "            'college': college,\n",
    "            'race': race,\n",
    "        })\n",
    "    return salaryAllData\n"
   ]
  },
  {
   "cell_type": "code",
   "execution_count": 7,
   "id": "ad341800",
   "metadata": {},
   "outputs": [
    {
     "data": {
      "text/plain": [
       "1"
      ]
     },
     "execution_count": 7,
     "metadata": {},
     "output_type": "execute_result"
    }
   ],
   "source": [
    "# Reparse data from CSV so we don't mess up above data\n",
    "salaryRaw = []\n",
    "for l in readCSV(\"Levels_Fyi_Salary_Data.csv\"):\n",
    "    salaryRaw.append(l)\n",
    "\n",
    "salaryAllData = parseSalaryRaw(salaryRaw)\n",
    "salaryAllData[0]['id']"
   ]
  },
  {
   "cell_type": "code",
   "execution_count": 8,
   "id": "bf37090a",
   "metadata": {},
   "outputs": [],
   "source": [
    "# Parse raw data\n",
    "salaryAllData = parseSalaryRaw(salaryRaw)"
   ]
  },
  {
   "cell_type": "code",
   "execution_count": 67,
   "id": "263da96a",
   "metadata": {},
   "outputs": [
    {
     "name": "stdout",
     "output_type": "stream",
     "text": [
      "47996, 47996\n",
      "6000, 6000\n",
      "6000, 6000\n",
      "50395, 69326, 60627\n"
     ]
    }
   ],
   "source": [
    "#####\n",
    "# Training, Validation, and Test sets\n",
    "#####\n",
    "\n",
    "# shuffle data\n",
    "shuffledAllData = sklearn.utils.shuffle(salaryAllData)\n",
    "shuffledAllData[0]['id']\n",
    "\n",
    "# create 80 / 10 / 10 : Train / Validation / Test sets\n",
    "X = shuffledAllData\n",
    "y = [d['salary'] for d in shuffledAllData]\n",
    "\n",
    "X_train, X_temp, y_train, y_temp = sklearn.model_selection.train_test_split(X, y, test_size=0.2, random_state=1)\n",
    "X_valid, X_test, y_valid, y_test = sklearn.model_selection.train_test_split(X_temp, y_temp, test_size=0.5, random_state=1)\n",
    "\n",
    "# Validate that sets were created with propper sizes\n",
    "print(str(len(X_train)) + \", \" + str(len(y_train)))\n",
    "print(str(len(X_valid)) + \", \" + str(len(y_valid)))\n",
    "print(str(len(X_test)) + \", \" + str(len(y_test)))\n",
    "\n",
    "# Validate all ids are different\n",
    "print(str(X_train[0]['id']) + \", \" + str(X_valid[0]['id']) + \", \" + str(X_test[0]['id']))"
   ]
  },
  {
   "cell_type": "code",
   "execution_count": 68,
   "id": "67ccafa3",
   "metadata": {},
   "outputs": [],
   "source": [
    "#####\n",
    "# Baselines\n",
    "#   1. Predict average salary in dataset\n",
    "#   2. Predict average salary for given Years of Experience\n",
    "#####"
   ]
  },
  {
   "cell_type": "code",
   "execution_count": 69,
   "id": "ca7b8083",
   "metadata": {},
   "outputs": [
    {
     "name": "stdout",
     "output_type": "stream",
     "text": [
      "Average salary: 141854.21278856572\n"
     ]
    }
   ],
   "source": [
    "# Create some useful collections for these baseline\n",
    "\n",
    "# create YOE to Average Map based on training data\n",
    "# We create two dictionaries to track the total salary seen at each YOE\n",
    "salByExpMap = defaultdict(int)\n",
    "\n",
    "# And the number of salaries seen at that YOE\n",
    "entriesByExpMap = defaultdict(int)\n",
    "\n",
    "# For each entry increment the total sal and num entries at that YOE\n",
    "# (This could be done with a running avg technique but that is too much work to code)\n",
    "for x in X_train:\n",
    "    exp, sal = float(x['experience']), float(x['salary'])\n",
    "    exp = math.ceil(exp)\n",
    "    \n",
    "    total = 0\n",
    "    numEntries = 0\n",
    "    \n",
    "    if salByExpMap[exp]:\n",
    "        total = salByExpMap[exp]\n",
    "    if entriesByExpMap[exp]:\n",
    "        numEntries = entriesByExpMap[exp]\n",
    "    \n",
    "    total += sal\n",
    "    numEntries += 1\n",
    "    \n",
    "    salByExpMap[exp] = total\n",
    "    entriesByExpMap[exp] = numEntries\n",
    "    \n",
    "\n",
    "    \n",
    "# Calculate averages by YOE as well as total avg\n",
    "totalSal = 0\n",
    "totalCount = 0\n",
    "\n",
    "averageSalaryByYoeMap = defaultdict(int)\n",
    "for exp in entriesByExpMap:\n",
    "    avg = salByExpMap[exp] / entriesByExpMap[exp]\n",
    "    averageSalaryByYoeMap[exp] = avg\n",
    "    \n",
    "    totalSal += salByExpMap[exp]\n",
    "    totalCount += entriesByExpMap[exp]\n",
    "\n",
    "avgSal = totalSal / totalCount\n",
    "\n",
    "print(\"Average salary: \" + str(avgSal))\n",
    "\n",
    "\n",
    "def pred_baseline1(x):    \n",
    "    return avgSal\n",
    "    \n",
    "def pred_baseline2(x):    \n",
    "    exp = math.ceil(float(x['experience']))\n",
    "\n",
    "    if averageSalaryByYoeMap[exp]:\n",
    "        return averageSalaryByYoeMap[exp]\n",
    "    else:\n",
    "        return avgSal"
   ]
  },
  {
   "cell_type": "code",
   "execution_count": 70,
   "id": "6d3f1878",
   "metadata": {},
   "outputs": [],
   "source": [
    "def baseline1():\n",
    "    # Returns average salary in dataset\n",
    "    y_b1 = []\n",
    "    y_b1_pred = []\n",
    "    \n",
    "    avg_err = 0\n",
    "    avg_percent_err = 0\n",
    "    \n",
    "    for d in X_valid:\n",
    "        pred = pred_baseline1(d)\n",
    "        actual = d['salary']\n",
    "        \n",
    "        y_b1_pred.append(pred)\n",
    "        y_b1.append(actual)\n",
    "        \n",
    "        avg_err += abs(actual - pred)\n",
    "        avg_percent_err += abs(100 * ((pred - actual) / pred))\n",
    "        \n",
    "    mse = MSE(y_b1_pred, y_b1)\n",
    "    \n",
    "    avg_err = avg_err / len(X_valid)\n",
    "    avg_percent_err = avg_percent_err / len(X_valid)\n",
    "    \n",
    "    return mse, avg_err, avg_percent_err"
   ]
  },
  {
   "cell_type": "code",
   "execution_count": 71,
   "id": "b4e36a41",
   "metadata": {},
   "outputs": [
    {
     "name": "stdout",
     "output_type": "stream",
     "text": [
      "3353061477.3829956\n",
      "40119.44553179428\n",
      "28.282167122941086\n"
     ]
    }
   ],
   "source": [
    "mse_b1, avg_err_b1, avg_percent_err_b1 = baseline1()\n",
    "print(mse_b1)\n",
    "print(avg_err_b1)\n",
    "print(avg_percent_err_b1)"
   ]
  },
  {
   "cell_type": "code",
   "execution_count": 72,
   "id": "b11c5e18",
   "metadata": {},
   "outputs": [],
   "source": [
    "def baseline2():\n",
    "    # Takes rounded YOE for each datapoint and predicts average salary for that YOE\n",
    "    # If there are no entries for that YOE, predict overall average\n",
    "    y_b1 = []\n",
    "    y_b1_pred = []\n",
    "    \n",
    "    avg_err = 0\n",
    "    avg_percent_err = 0\n",
    "    \n",
    "    for d in X_valid:\n",
    "        pred = pred_baseline2(d)\n",
    "        actual = d['salary']\n",
    "        \n",
    "        y_b1_pred.append(pred)\n",
    "        y_b1.append(actual)\n",
    "        \n",
    "        avg_err += abs(actual - pred)\n",
    "        avg_percent_err += abs(100 * ((pred - actual) / pred))\n",
    "        \n",
    "    mse = MSE(y_b1_pred, y_b1)\n",
    "    \n",
    "    avg_err = avg_err / len(X_valid)\n",
    "    avg_percent_err = avg_percent_err / len(X_valid)\n",
    "    \n",
    "    return mse, avg_err, avg_percent_err"
   ]
  },
  {
   "cell_type": "code",
   "execution_count": 73,
   "id": "f53a1c2f",
   "metadata": {
    "scrolled": true
   },
   "outputs": [
    {
     "name": "stdout",
     "output_type": "stream",
     "text": [
      "2719548537.3937807\n",
      "35003.825782209555\n",
      "24.785818139335166\n"
     ]
    }
   ],
   "source": [
    "mse_b2, avg_err_b2, avg_percent_err_b2 = baseline2()\n",
    "print(mse_b2)\n",
    "print(avg_err_b2)\n",
    "print(avg_percent_err_b2)"
   ]
  },
  {
   "cell_type": "code",
   "execution_count": 74,
   "id": "ad2cbdc9",
   "metadata": {},
   "outputs": [],
   "source": [
    "#####\n",
    "# Model\n",
    "#####"
   ]
  },
  {
   "cell_type": "code",
   "execution_count": 75,
   "id": "5670f5db",
   "metadata": {},
   "outputs": [],
   "source": [
    "#####\n",
    "# Provide a description of your model:\n",
    "#      1. What model are you using\n",
    "#      2. What information are you trying to incorporate into your model\n",
    "#      3. How are you building your feature vector?\n",
    "#      4. What interesting pieces of information did you learn? (i.e. most influential words, popular cities, etc)\n",
    "#####\n",
    "\n",
    "# Write description in comments here"
   ]
  },
  {
   "cell_type": "code",
   "execution_count": 76,
   "id": "a4344905",
   "metadata": {},
   "outputs": [],
   "source": [
    "# Model code starts here"
   ]
  },
  {
   "cell_type": "code",
   "execution_count": 77,
   "id": "fff7546e",
   "metadata": {},
   "outputs": [],
   "source": [
    "## model 1 : linear regression"
   ]
  },
  {
   "cell_type": "code",
   "execution_count": 615,
   "id": "0972ed28",
   "metadata": {},
   "outputs": [],
   "source": [
    "def feat(d):\n",
    "    exp = float(d['experience'])\n",
    "    ten = float(d['tenure'])\n",
    "    if d['hs'] == 1:\n",
    "        edu = 12.0\n",
    "    elif d['college'] == 1:\n",
    "        edu = 14.0\n",
    "    elif d['bs_deg'] == 1:\n",
    "        edu = 16.0\n",
    "    elif d['ms_deg'] == 1:\n",
    "        edu = 18.0\n",
    "    elif d['phd_deg'] == 1:\n",
    "        edu = 21.0\n",
    "    else:\n",
    "        edu = 16.0\n",
    "    return [1, exp**.5, ten**2, edu]"
   ]
  },
  {
   "cell_type": "code",
   "execution_count": 616,
   "id": "3eda3d01",
   "metadata": {},
   "outputs": [],
   "source": [
    "def standardize(Xvector):\n",
    "    a = np.array(Xvector)\n",
    "    b = a/np.max(a, axis=0)\n",
    "    return b.tolist()"
   ]
  },
  {
   "cell_type": "code",
   "execution_count": 617,
   "id": "9fcb017b",
   "metadata": {},
   "outputs": [],
   "source": [
    "def percent_err(y, pred):\n",
    "    tot = 0\n",
    "    for actual, pred in zip(y, pred):\n",
    "        tot += abs(100 * ((pred-actual) / pred))\n",
    "    avg = tot/len(y)\n",
    "    return avg"
   ]
  },
  {
   "cell_type": "code",
   "execution_count": 618,
   "id": "3da5a3c3",
   "metadata": {},
   "outputs": [],
   "source": [
    "X1 = standardize([feat(d) for d in X_train])\n",
    "X2 = standardize([feat(d) for d in X_valid])\n",
    "X3 = standardize([feat(d) for d in X_test])\n",
    "\n",
    "y1 = [d['salary'] for d in X_train]\n",
    "y2 = [d['salary'] for d in X_valid]\n",
    "y3 = [d['salary'] for d in X_test]"
   ]
  },
  {
   "cell_type": "code",
   "execution_count": 619,
   "id": "6aa499b1",
   "metadata": {
    "scrolled": false
   },
   "outputs": [
    {
     "data": {
      "text/plain": [
       "LinearRegression(fit_intercept=False)"
      ]
     },
     "execution_count": 619,
     "metadata": {},
     "output_type": "execute_result"
    }
   ],
   "source": [
    "mod = linear_model.LinearRegression(fit_intercept=False)\n",
    "mod.fit(X1, y1)"
   ]
  },
  {
   "cell_type": "code",
   "execution_count": 620,
   "id": "877d3437",
   "metadata": {},
   "outputs": [],
   "source": [
    "pred = mod.predict(X2)"
   ]
  },
  {
   "cell_type": "code",
   "execution_count": 621,
   "id": "7c8fa4cd",
   "metadata": {},
   "outputs": [],
   "source": [
    "df = pd.DataFrame({'y': y_valid, 'pred': pred})"
   ]
  },
  {
   "cell_type": "code",
   "execution_count": 622,
   "id": "9698ac23",
   "metadata": {},
   "outputs": [
    {
     "data": {
      "text/html": [
       "<div>\n",
       "<style scoped>\n",
       "    .dataframe tbody tr th:only-of-type {\n",
       "        vertical-align: middle;\n",
       "    }\n",
       "\n",
       "    .dataframe tbody tr th {\n",
       "        vertical-align: top;\n",
       "    }\n",
       "\n",
       "    .dataframe thead th {\n",
       "        text-align: right;\n",
       "    }\n",
       "</style>\n",
       "<table border=\"1\" class=\"dataframe\">\n",
       "  <thead>\n",
       "    <tr style=\"text-align: right;\">\n",
       "      <th></th>\n",
       "      <th>y</th>\n",
       "      <th>pred</th>\n",
       "    </tr>\n",
       "  </thead>\n",
       "  <tbody>\n",
       "    <tr>\n",
       "      <th>0</th>\n",
       "      <td>100000</td>\n",
       "      <td>167662.887834</td>\n",
       "    </tr>\n",
       "    <tr>\n",
       "      <th>1</th>\n",
       "      <td>140000</td>\n",
       "      <td>154105.149070</td>\n",
       "    </tr>\n",
       "    <tr>\n",
       "      <th>2</th>\n",
       "      <td>135000</td>\n",
       "      <td>119554.970583</td>\n",
       "    </tr>\n",
       "    <tr>\n",
       "      <th>3</th>\n",
       "      <td>134000</td>\n",
       "      <td>86162.896053</td>\n",
       "    </tr>\n",
       "    <tr>\n",
       "      <th>4</th>\n",
       "      <td>175000</td>\n",
       "      <td>211250.666394</td>\n",
       "    </tr>\n",
       "    <tr>\n",
       "      <th>...</th>\n",
       "      <td>...</td>\n",
       "      <td>...</td>\n",
       "    </tr>\n",
       "    <tr>\n",
       "      <th>5995</th>\n",
       "      <td>173000</td>\n",
       "      <td>139406.206274</td>\n",
       "    </tr>\n",
       "    <tr>\n",
       "      <th>5996</th>\n",
       "      <td>180000</td>\n",
       "      <td>156980.682084</td>\n",
       "    </tr>\n",
       "    <tr>\n",
       "      <th>5997</th>\n",
       "      <td>200000</td>\n",
       "      <td>179724.153870</td>\n",
       "    </tr>\n",
       "    <tr>\n",
       "      <th>5998</th>\n",
       "      <td>185000</td>\n",
       "      <td>154497.749639</td>\n",
       "    </tr>\n",
       "    <tr>\n",
       "      <th>5999</th>\n",
       "      <td>189000</td>\n",
       "      <td>181796.948395</td>\n",
       "    </tr>\n",
       "  </tbody>\n",
       "</table>\n",
       "<p>6000 rows × 2 columns</p>\n",
       "</div>"
      ],
      "text/plain": [
       "           y           pred\n",
       "0     100000  167662.887834\n",
       "1     140000  154105.149070\n",
       "2     135000  119554.970583\n",
       "3     134000   86162.896053\n",
       "4     175000  211250.666394\n",
       "...      ...            ...\n",
       "5995  173000  139406.206274\n",
       "5996  180000  156980.682084\n",
       "5997  200000  179724.153870\n",
       "5998  185000  154497.749639\n",
       "5999  189000  181796.948395\n",
       "\n",
       "[6000 rows x 2 columns]"
      ]
     },
     "execution_count": 622,
     "metadata": {},
     "output_type": "execute_result"
    }
   ],
   "source": [
    "df"
   ]
  },
  {
   "cell_type": "code",
   "execution_count": 623,
   "id": "19cdd186",
   "metadata": {},
   "outputs": [
    {
     "data": {
      "text/plain": [
       "23.992128163359574"
      ]
     },
     "execution_count": 623,
     "metadata": {},
     "output_type": "execute_result"
    }
   ],
   "source": [
    "percent_err(y_valid, pred)"
   ]
  },
  {
   "cell_type": "code",
   "execution_count": 624,
   "id": "97e6fa11",
   "metadata": {},
   "outputs": [
    {
     "data": {
      "text/plain": [
       "3009143707.1675377"
      ]
     },
     "execution_count": 624,
     "metadata": {},
     "output_type": "execute_result"
    }
   ],
   "source": [
    "MSE(y_valid, pred)"
   ]
  },
  {
   "cell_type": "code",
   "execution_count": 625,
   "id": "2e017203",
   "metadata": {},
   "outputs": [],
   "source": [
    "#gradient boosting regression"
   ]
  },
  {
   "cell_type": "code",
   "execution_count": 626,
   "id": "f420c9a5",
   "metadata": {},
   "outputs": [],
   "source": [
    "from sklearn import ensemble"
   ]
  },
  {
   "cell_type": "code",
   "execution_count": 627,
   "id": "130e0480",
   "metadata": {},
   "outputs": [],
   "source": [
    "params = {\n",
    "    \"n_estimators\": 450,\n",
    "    \"max_depth\": 1,\n",
    "    \"min_samples_split\": 4,\n",
    "    \"learning_rate\": 0.02,\n",
    "    \"loss\": \"squared_error\",\n",
    "    \"n_iter_no_change\" : 10,\n",
    "    \"subsample\" : 0.9\n",
    "}"
   ]
  },
  {
   "cell_type": "code",
   "execution_count": 628,
   "id": "93f692ab",
   "metadata": {},
   "outputs": [
    {
     "data": {
      "text/plain": [
       "GradientBoostingRegressor(learning_rate=0.02, max_depth=1, min_samples_split=4,\n",
       "                          n_estimators=450, n_iter_no_change=10, subsample=0.9)"
      ]
     },
     "execution_count": 628,
     "metadata": {},
     "output_type": "execute_result"
    }
   ],
   "source": [
    "reg = ensemble.GradientBoostingRegressor(**params)\n",
    "reg.fit(X1, y_train)"
   ]
  },
  {
   "cell_type": "code",
   "execution_count": 629,
   "id": "1d9db553",
   "metadata": {},
   "outputs": [],
   "source": [
    "reg = ensemble.GradientBoostingRegressor(**params)\n",
    "reg.fit(X1, y1)\n",
    "\n",
    "pred = reg.predict(X2)"
   ]
  },
  {
   "cell_type": "code",
   "execution_count": 630,
   "id": "cb24fc17",
   "metadata": {},
   "outputs": [
    {
     "data": {
      "text/plain": [
       "22.831564586270098"
      ]
     },
     "execution_count": 630,
     "metadata": {},
     "output_type": "execute_result"
    }
   ],
   "source": [
    "percent_err(y2, pred)"
   ]
  },
  {
   "cell_type": "code",
   "execution_count": 631,
   "id": "9a722bd2",
   "metadata": {},
   "outputs": [
    {
     "data": {
      "text/plain": [
       "2908982715.517044"
      ]
     },
     "execution_count": 631,
     "metadata": {},
     "output_type": "execute_result"
    }
   ],
   "source": [
    "MSE(y2, pred)"
   ]
  }
 ],
 "metadata": {
  "kernelspec": {
   "display_name": "Python 3 (ipykernel)",
   "language": "python",
   "name": "python3"
  },
  "language_info": {
   "codemirror_mode": {
    "name": "ipython",
    "version": 3
   },
   "file_extension": ".py",
   "mimetype": "text/x-python",
   "name": "python",
   "nbconvert_exporter": "python",
   "pygments_lexer": "ipython3",
   "version": "3.9.12"
  }
 },
 "nbformat": 4,
 "nbformat_minor": 5
}
